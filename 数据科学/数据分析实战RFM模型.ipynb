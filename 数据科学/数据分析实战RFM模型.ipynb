{
 "cells": [
  {
   "cell_type": "code",
   "execution_count": 1,
   "id": "9fb2b4b1",
   "metadata": {
    "scrolled": true
   },
   "outputs": [
    {
     "name": "stdout",
     "output_type": "stream",
     "text": [
      "<class 'pandas.core.frame.DataFrame'>\n",
      "RangeIndex: 96136 entries, 0 to 96135\n",
      "Data columns (total 10 columns):\n",
      " #   Column  Non-Null Count  Dtype  \n",
      "---  ------  --------------  -----  \n",
      " 0   订单号     96136 non-null  object \n",
      " 1   顾客ID    96136 non-null  object \n",
      " 2   订单时间    96136 non-null  object \n",
      " 3   付款金额    96136 non-null  float64\n",
      " 4   商品ID    96136 non-null  object \n",
      " 5   商品描述    96136 non-null  object \n",
      " 6   年份      96136 non-null  int64  \n",
      " 7   月份      96136 non-null  int64  \n",
      " 8   日期      96136 non-null  object \n",
      " 9   星期几     96136 non-null  int64  \n",
      "dtypes: float64(1), int64(3), object(6)\n",
      "memory usage: 7.3+ MB\n"
     ]
    }
   ],
   "source": [
    "import pandas as pd\n",
    "import matplotlib.pyplot as plt\n",
    "from datetime import datetime\n",
    "import warnings\n",
    "warnings.filterwarnings('ignore')\n",
    "import seaborn as sns\n",
    "plt.rcParams['font.family'] = ['HeiTi TC']\n",
    "data = pd.read_csv('clean_data.csv')\n",
    "data.info()"
   ]
  },
  {
   "cell_type": "code",
   "execution_count": 20,
   "id": "0a8156e0",
   "metadata": {},
   "outputs": [
    {
     "data": {
      "image/png": "[encoded data removed]",
      "text/plain": [
       "<Figure size 432x288 with 1 Axes>"
      ]
     },
     "metadata": {
      "needs_background": "light"
     },
     "output_type": "display_data"
    }
   ],
   "source": [
    "test_1 = data.groupby(['顾客ID','订单号','订单时间'])['付款金额'].sum().reset_index()\n",
    "test_1 = test_1.astype({'订单时间':'datetime64'})\n",
    "today = pd.to_datetime('2019-01-01')\n",
    "test_1['R'] = (today - pd.to_datetime(test_1['订单时间'])).dt.days\n",
    "line = test_1.groupby('R')['顾客ID'].count().reset_index()\n",
    "line = line.rename(columns = {'顾客ID':'顾客数量'})\n",
    "sns.lineplot(x = 'R', y = line.index ,data = line)\n",
    "plt.show()"
   ]
  },
  {
   "cell_type": "code",
   "execution_count": null,
   "id": "2e0f99b3",
   "metadata": {},
   "outputs": [],
   "source": []
  },
  {
   "cell_type": "code",
   "execution_count": null,
   "id": "5d293759",
   "metadata": {},
   "outputs": [],
   "source": []
  }
 ],
 "metadata": {
  "kernelspec": {
   "display_name": "Python 3 (ipykernel)",
   "language": "python",
   "name": "python3"
  },
  "language_info": {
   "codemirror_mode": {
    "name": "ipython",
    "version": 3
   },
   "file_extension": ".py",
   "mimetype": "text/x-python",
   "name": "python",
   "nbconvert_exporter": "python",
   "pygments_lexer": "ipython3",
   "version": "3.10.2"
  }
 },
 "nbformat": 4,
 "nbformat_minor": 5
}
