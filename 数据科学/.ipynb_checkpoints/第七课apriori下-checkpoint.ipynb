{
 "cells": [
  {
   "cell_type": "code",
   "execution_count": 9,
   "id": "d13b9c0f",
   "metadata": {
    "scrolled": true
   },
   "outputs": [
    {
     "data": {
      "text/html": [
       "<div>\n",
       "<style scoped>\n",
       "    .dataframe tbody tr th:only-of-type {\n",
       "        vertical-align: middle;\n",
       "    }\n",
       "\n",
       "    .dataframe tbody tr th {\n",
       "        vertical-align: top;\n",
       "    }\n",
       "\n",
       "    .dataframe thead th {\n",
       "        text-align: right;\n",
       "    }\n",
       "</style>\n",
       "<table border=\"1\" class=\"dataframe\">\n",
       "  <thead>\n",
       "    <tr style=\"text-align: right;\">\n",
       "      <th></th>\n",
       "      <th>用户编号</th>\n",
       "      <th>文章类别</th>\n",
       "      <th>阅读数</th>\n",
       "      <th>看一看</th>\n",
       "      <th>点赞</th>\n",
       "      <th>赞赏</th>\n",
       "      <th>被转载</th>\n",
       "      <th>访问日期</th>\n",
       "    </tr>\n",
       "  </thead>\n",
       "  <tbody>\n",
       "    <tr>\n",
       "      <th>0</th>\n",
       "      <td>1</td>\n",
       "      <td>数据分析</td>\n",
       "      <td>20051</td>\n",
       "      <td>1203</td>\n",
       "      <td>2406</td>\n",
       "      <td>80</td>\n",
       "      <td>601</td>\n",
       "      <td>2020/9/21</td>\n",
       "    </tr>\n",
       "    <tr>\n",
       "      <th>1</th>\n",
       "      <td>2</td>\n",
       "      <td>数据分析</td>\n",
       "      <td>11690</td>\n",
       "      <td>584</td>\n",
       "      <td>1519</td>\n",
       "      <td>46</td>\n",
       "      <td>233</td>\n",
       "      <td>2020/9/17</td>\n",
       "    </tr>\n",
       "    <tr>\n",
       "      <th>2</th>\n",
       "      <td>3</td>\n",
       "      <td>数据分析</td>\n",
       "      <td>5720</td>\n",
       "      <td>400</td>\n",
       "      <td>572</td>\n",
       "      <td>45</td>\n",
       "      <td>228</td>\n",
       "      <td>2020/9/2</td>\n",
       "    </tr>\n",
       "    <tr>\n",
       "      <th>3</th>\n",
       "      <td>4</td>\n",
       "      <td>数据分析</td>\n",
       "      <td>22502</td>\n",
       "      <td>1125</td>\n",
       "      <td>3150</td>\n",
       "      <td>45</td>\n",
       "      <td>900</td>\n",
       "      <td>2020/9/24</td>\n",
       "    </tr>\n",
       "    <tr>\n",
       "      <th>4</th>\n",
       "      <td>5</td>\n",
       "      <td>数据分析</td>\n",
       "      <td>11201</td>\n",
       "      <td>560</td>\n",
       "      <td>1344</td>\n",
       "      <td>89</td>\n",
       "      <td>448</td>\n",
       "      <td>2020/9/8</td>\n",
       "    </tr>\n",
       "    <tr>\n",
       "      <th>5</th>\n",
       "      <td>6</td>\n",
       "      <td>数据分析</td>\n",
       "      <td>5834</td>\n",
       "      <td>233</td>\n",
       "      <td>816</td>\n",
       "      <td>35</td>\n",
       "      <td>116</td>\n",
       "      <td>2020/9/21</td>\n",
       "    </tr>\n",
       "    <tr>\n",
       "      <th>6</th>\n",
       "      <td>7</td>\n",
       "      <td>数据分析</td>\n",
       "      <td>12088</td>\n",
       "      <td>846</td>\n",
       "      <td>1692</td>\n",
       "      <td>12</td>\n",
       "      <td>483</td>\n",
       "      <td>2020/9/24</td>\n",
       "    </tr>\n",
       "    <tr>\n",
       "      <th>7</th>\n",
       "      <td>8</td>\n",
       "      <td>数据分析</td>\n",
       "      <td>25402</td>\n",
       "      <td>1778</td>\n",
       "      <td>3556</td>\n",
       "      <td>228</td>\n",
       "      <td>508</td>\n",
       "      <td>2020/9/2</td>\n",
       "    </tr>\n",
       "    <tr>\n",
       "      <th>8</th>\n",
       "      <td>9</td>\n",
       "      <td>数据分析</td>\n",
       "      <td>5815</td>\n",
       "      <td>407</td>\n",
       "      <td>814</td>\n",
       "      <td>5</td>\n",
       "      <td>116</td>\n",
       "      <td>2020/9/26</td>\n",
       "    </tr>\n",
       "    <tr>\n",
       "      <th>9</th>\n",
       "      <td>10</td>\n",
       "      <td>数据分析</td>\n",
       "      <td>10369</td>\n",
       "      <td>518</td>\n",
       "      <td>933</td>\n",
       "      <td>41</td>\n",
       "      <td>207</td>\n",
       "      <td>2020/9/17</td>\n",
       "    </tr>\n",
       "  </tbody>\n",
       "</table>\n",
       "</div>"
      ],
      "text/plain": [
       "   用户编号  文章类别    阅读数   看一看    点赞   赞赏  被转载       访问日期\n",
       "0     1  数据分析  20051  1203  2406   80  601  2020/9/21\n",
       "1     2  数据分析  11690   584  1519   46  233  2020/9/17\n",
       "2     3  数据分析   5720   400   572   45  228   2020/9/2\n",
       "3     4  数据分析  22502  1125  3150   45  900  2020/9/24\n",
       "4     5  数据分析  11201   560  1344   89  448   2020/9/8\n",
       "5     6  数据分析   5834   233   816   35  116  2020/9/21\n",
       "6     7  数据分析  12088   846  1692   12  483  2020/9/24\n",
       "7     8  数据分析  25402  1778  3556  228  508   2020/9/2\n",
       "8     9  数据分析   5815   407   814    5  116  2020/9/26\n",
       "9    10  数据分析  10369   518   933   41  207  2020/9/17"
      ]
     },
     "execution_count": 9,
     "metadata": {},
     "output_type": "execute_result"
    }
   ],
   "source": [
    "import pandas as pd\n",
    "# 以 utf-8 的编码模式读取并查看【公众号用户访问数据.csv】数据\n",
    "user_data = pd.read_csv('第六课/公众号用户访问数据.csv',encoding = 'gbk')\n",
    "user_data.head(10)"
   ]
  },
  {
   "cell_type": "code",
   "execution_count": 10,
   "id": "cd9ef999",
   "metadata": {},
   "outputs": [
    {
     "data": {
      "text/html": [
       "<div>\n",
       "<style scoped>\n",
       "    .dataframe tbody tr th:only-of-type {\n",
       "        vertical-align: middle;\n",
       "    }\n",
       "\n",
       "    .dataframe tbody tr th {\n",
       "        vertical-align: top;\n",
       "    }\n",
       "\n",
       "    .dataframe thead th {\n",
       "        text-align: right;\n",
       "    }\n",
       "</style>\n",
       "<table border=\"1\" class=\"dataframe\">\n",
       "  <thead>\n",
       "    <tr style=\"text-align: right;\">\n",
       "      <th></th>\n",
       "      <th>姓名</th>\n",
       "    </tr>\n",
       "    <tr>\n",
       "      <th>班级</th>\n",
       "      <th></th>\n",
       "    </tr>\n",
       "  </thead>\n",
       "  <tbody>\n",
       "    <tr>\n",
       "      <th>1</th>\n",
       "      <td>王薇袁芬</td>\n",
       "    </tr>\n",
       "    <tr>\n",
       "      <th>2</th>\n",
       "      <td>刘敏陈芳</td>\n",
       "    </tr>\n",
       "  </tbody>\n",
       "</table>\n",
       "</div>"
      ],
      "text/plain": [
       "      姓名\n",
       "班级      \n",
       "1   王薇袁芬\n",
       "2   刘敏陈芳"
      ]
     },
     "execution_count": 10,
     "metadata": {},
     "output_type": "execute_result"
    }
   ],
   "source": [
    "# 设置班级姓名的 DataFrame 数据\n",
    "test1 = pd.DataFrame({'班级': [1, 2, 2, 1], '姓名': ['王薇', '刘敏', '陈芳', '袁芬']})\n",
    "# 按班级将姓名进行合并\n",
    "test1 = test1.groupby(['班级']).sum()\n",
    "# 查看合并结果\n",
    "test1"
   ]
  },
  {
   "cell_type": "code",
   "execution_count": 11,
   "id": "cf7a5059",
   "metadata": {
    "scrolled": true
   },
   "outputs": [
    {
     "data": {
      "text/html": [
       "<div>\n",
       "<style scoped>\n",
       "    .dataframe tbody tr th:only-of-type {\n",
       "        vertical-align: middle;\n",
       "    }\n",
       "\n",
       "    .dataframe tbody tr th {\n",
       "        vertical-align: top;\n",
       "    }\n",
       "\n",
       "    .dataframe thead th {\n",
       "        text-align: right;\n",
       "    }\n",
       "</style>\n",
       "<table border=\"1\" class=\"dataframe\">\n",
       "  <thead>\n",
       "    <tr style=\"text-align: right;\">\n",
       "      <th></th>\n",
       "      <th>姓名</th>\n",
       "    </tr>\n",
       "    <tr>\n",
       "      <th>班级</th>\n",
       "      <th></th>\n",
       "    </tr>\n",
       "  </thead>\n",
       "  <tbody>\n",
       "    <tr>\n",
       "      <th>1</th>\n",
       "      <td>[王薇, 袁芬]</td>\n",
       "    </tr>\n",
       "    <tr>\n",
       "      <th>2</th>\n",
       "      <td>[刘敏, 陈芳]</td>\n",
       "    </tr>\n",
       "  </tbody>\n",
       "</table>\n",
       "</div>"
      ],
      "text/plain": [
       "          姓名\n",
       "班级          \n",
       "1   [王薇, 袁芬]\n",
       "2   [刘敏, 陈芳]"
      ]
     },
     "execution_count": 11,
     "metadata": {},
     "output_type": "execute_result"
    }
   ],
   "source": [
    "# 设置班级姓名的 DataFrame 数据\n",
    "test2 = pd.DataFrame({'班级': [1, 2, 2, 1], '姓名': [['王薇'], ['刘敏'], ['陈芳'], ['袁芬']]})\n",
    "# 按班级将姓名进行合并\n",
    "test2 = test2.groupby(['班级']).sum()\n",
    "# 查看合并结果\n",
    "test2"
   ]
  },
  {
   "cell_type": "code",
   "execution_count": 12,
   "id": "cef3c193",
   "metadata": {},
   "outputs": [
    {
     "data": {
      "text/html": [
       "<div>\n",
       "<style scoped>\n",
       "    .dataframe tbody tr th:only-of-type {\n",
       "        vertical-align: middle;\n",
       "    }\n",
       "\n",
       "    .dataframe tbody tr th {\n",
       "        vertical-align: top;\n",
       "    }\n",
       "\n",
       "    .dataframe thead th {\n",
       "        text-align: right;\n",
       "    }\n",
       "</style>\n",
       "<table border=\"1\" class=\"dataframe\">\n",
       "  <thead>\n",
       "    <tr style=\"text-align: right;\">\n",
       "      <th></th>\n",
       "      <th>用户编号</th>\n",
       "      <th>文章类别</th>\n",
       "      <th>访问日期</th>\n",
       "    </tr>\n",
       "  </thead>\n",
       "  <tbody>\n",
       "    <tr>\n",
       "      <th>0</th>\n",
       "      <td>1</td>\n",
       "      <td>数据分析</td>\n",
       "      <td>2020/9/21</td>\n",
       "    </tr>\n",
       "    <tr>\n",
       "      <th>1</th>\n",
       "      <td>2</td>\n",
       "      <td>数据分析</td>\n",
       "      <td>2020/9/17</td>\n",
       "    </tr>\n",
       "    <tr>\n",
       "      <th>2</th>\n",
       "      <td>3</td>\n",
       "      <td>数据分析</td>\n",
       "      <td>2020/9/2</td>\n",
       "    </tr>\n",
       "    <tr>\n",
       "      <th>3</th>\n",
       "      <td>4</td>\n",
       "      <td>数据分析</td>\n",
       "      <td>2020/9/24</td>\n",
       "    </tr>\n",
       "    <tr>\n",
       "      <th>4</th>\n",
       "      <td>5</td>\n",
       "      <td>数据分析</td>\n",
       "      <td>2020/9/8</td>\n",
       "    </tr>\n",
       "    <tr>\n",
       "      <th>...</th>\n",
       "      <td>...</td>\n",
       "      <td>...</td>\n",
       "      <td>...</td>\n",
       "    </tr>\n",
       "    <tr>\n",
       "      <th>194</th>\n",
       "      <td>98</td>\n",
       "      <td>pandas</td>\n",
       "      <td>2020/9/20</td>\n",
       "    </tr>\n",
       "    <tr>\n",
       "      <th>195</th>\n",
       "      <td>98</td>\n",
       "      <td>pandas</td>\n",
       "      <td>2020/9/20</td>\n",
       "    </tr>\n",
       "    <tr>\n",
       "      <th>196</th>\n",
       "      <td>99</td>\n",
       "      <td>数据分析</td>\n",
       "      <td>2020/9/23</td>\n",
       "    </tr>\n",
       "    <tr>\n",
       "      <th>197</th>\n",
       "      <td>99</td>\n",
       "      <td>pandas</td>\n",
       "      <td>2020/9/23</td>\n",
       "    </tr>\n",
       "    <tr>\n",
       "      <th>198</th>\n",
       "      <td>99</td>\n",
       "      <td>matplotlib</td>\n",
       "      <td>2020/9/23</td>\n",
       "    </tr>\n",
       "  </tbody>\n",
       "</table>\n",
       "<p>199 rows × 3 columns</p>\n",
       "</div>"
      ],
      "text/plain": [
       "     用户编号        文章类别       访问日期\n",
       "0       1        数据分析  2020/9/21\n",
       "1       2        数据分析  2020/9/17\n",
       "2       3        数据分析   2020/9/2\n",
       "3       4        数据分析  2020/9/24\n",
       "4       5        数据分析   2020/9/8\n",
       "..    ...         ...        ...\n",
       "194    98      pandas  2020/9/20\n",
       "195    98      pandas  2020/9/20\n",
       "196    99        数据分析  2020/9/23\n",
       "197    99      pandas  2020/9/23\n",
       "198    99  matplotlib  2020/9/23\n",
       "\n",
       "[199 rows x 3 columns]"
      ]
     },
     "execution_count": 12,
     "metadata": {},
     "output_type": "execute_result"
    }
   ],
   "source": [
    "# 提取列数据（'用户编号', '文章类别', '访问日期'），并进行赋值\n",
    "analysis_data = user_data[['用户编号','文章类别','访问日期']]\n",
    "# 查看提取的数据\n",
    "analysis_data"
   ]
  },
  {
   "cell_type": "code",
   "execution_count": 13,
   "id": "e54b5b8c",
   "metadata": {},
   "outputs": [],
   "source": [
    "# 查看提取数据后的重复数据\n",
    "analysis_data[analysis_data.duplicated()]\n",
    "# 去除重复数据\n",
    "analysis_data = analysis_data.drop_duplicates()"
   ]
  },
  {
   "cell_type": "code",
   "execution_count": 14,
   "id": "19e067a8",
   "metadata": {},
   "outputs": [
    {
     "name": "stderr",
     "output_type": "stream",
     "text": [
      "/var/folders/c3/1mlh1ntd363br3fhrxrshr_m0000gn/T/ipykernel_1487/2794623232.py:13: SettingWithCopyWarning: \n",
      "A value is trying to be set on a copy of a slice from a DataFrame.\n",
      "Try using .loc[row_indexer,col_indexer] = value instead\n",
      "\n",
      "See the caveats in the documentation: https://pandas.pydata.org/pandas-docs/stable/user_guide/indexing.html#returning-a-view-versus-a-copy\n",
      "  analysis_data['文章类别'] = analysis_data['文章类别'].agg(conversion_data)\n"
     ]
    },
    {
     "data": {
      "text/html": [
       "<div>\n",
       "<style scoped>\n",
       "    .dataframe tbody tr th:only-of-type {\n",
       "        vertical-align: middle;\n",
       "    }\n",
       "\n",
       "    .dataframe tbody tr th {\n",
       "        vertical-align: top;\n",
       "    }\n",
       "\n",
       "    .dataframe thead th {\n",
       "        text-align: right;\n",
       "    }\n",
       "</style>\n",
       "<table border=\"1\" class=\"dataframe\">\n",
       "  <thead>\n",
       "    <tr style=\"text-align: right;\">\n",
       "      <th></th>\n",
       "      <th>用户编号</th>\n",
       "      <th>文章类别</th>\n",
       "      <th>访问日期</th>\n",
       "    </tr>\n",
       "  </thead>\n",
       "  <tbody>\n",
       "    <tr>\n",
       "      <th>0</th>\n",
       "      <td>1</td>\n",
       "      <td>[数据分析]</td>\n",
       "      <td>2020/9/21</td>\n",
       "    </tr>\n",
       "    <tr>\n",
       "      <th>1</th>\n",
       "      <td>2</td>\n",
       "      <td>[数据分析]</td>\n",
       "      <td>2020/9/17</td>\n",
       "    </tr>\n",
       "    <tr>\n",
       "      <th>2</th>\n",
       "      <td>3</td>\n",
       "      <td>[数据分析]</td>\n",
       "      <td>2020/9/2</td>\n",
       "    </tr>\n",
       "    <tr>\n",
       "      <th>3</th>\n",
       "      <td>4</td>\n",
       "      <td>[数据分析]</td>\n",
       "      <td>2020/9/24</td>\n",
       "    </tr>\n",
       "    <tr>\n",
       "      <th>4</th>\n",
       "      <td>5</td>\n",
       "      <td>[数据分析]</td>\n",
       "      <td>2020/9/8</td>\n",
       "    </tr>\n",
       "    <tr>\n",
       "      <th>...</th>\n",
       "      <td>...</td>\n",
       "      <td>...</td>\n",
       "      <td>...</td>\n",
       "    </tr>\n",
       "    <tr>\n",
       "      <th>193</th>\n",
       "      <td>98</td>\n",
       "      <td>[数据分析]</td>\n",
       "      <td>2020/9/20</td>\n",
       "    </tr>\n",
       "    <tr>\n",
       "      <th>194</th>\n",
       "      <td>98</td>\n",
       "      <td>[pandas]</td>\n",
       "      <td>2020/9/20</td>\n",
       "    </tr>\n",
       "    <tr>\n",
       "      <th>196</th>\n",
       "      <td>99</td>\n",
       "      <td>[数据分析]</td>\n",
       "      <td>2020/9/23</td>\n",
       "    </tr>\n",
       "    <tr>\n",
       "      <th>197</th>\n",
       "      <td>99</td>\n",
       "      <td>[pandas]</td>\n",
       "      <td>2020/9/23</td>\n",
       "    </tr>\n",
       "    <tr>\n",
       "      <th>198</th>\n",
       "      <td>99</td>\n",
       "      <td>[matplotlib]</td>\n",
       "      <td>2020/9/23</td>\n",
       "    </tr>\n",
       "  </tbody>\n",
       "</table>\n",
       "<p>192 rows × 3 columns</p>\n",
       "</div>"
      ],
      "text/plain": [
       "     用户编号          文章类别       访问日期\n",
       "0       1        [数据分析]  2020/9/21\n",
       "1       2        [数据分析]  2020/9/17\n",
       "2       3        [数据分析]   2020/9/2\n",
       "3       4        [数据分析]  2020/9/24\n",
       "4       5        [数据分析]   2020/9/8\n",
       "..    ...           ...        ...\n",
       "193    98        [数据分析]  2020/9/20\n",
       "194    98      [pandas]  2020/9/20\n",
       "196    99        [数据分析]  2020/9/23\n",
       "197    99      [pandas]  2020/9/23\n",
       "198    99  [matplotlib]  2020/9/23\n",
       "\n",
       "[192 rows x 3 columns]"
      ]
     },
     "execution_count": 14,
     "metadata": {},
     "output_type": "execute_result"
    }
   ],
   "source": [
    "# 定义“格式转换”函数\n",
    "def conversion_data(category):\n",
    "\n",
    "    # 判断文章类别是否已经转成了列表格式\n",
    "    if str(category)[0] == '[':\n",
    "        # 直接返回文章类别\n",
    "        return category\n",
    "    # 返回转成列表格式后的文章类别\n",
    "    return [category]\n",
    "\n",
    "\n",
    "# 获取'文章类别'列，调用 agg() 方法\n",
    "analysis_data['文章类别'] = analysis_data['文章类别'].agg(conversion_data)\n",
    "# 查看处理后的数据\n",
    "analysis_data"
   ]
  },
  {
   "cell_type": "code",
   "execution_count": 15,
   "id": "21766992",
   "metadata": {},
   "outputs": [
    {
     "data": {
      "text/html": [
       "<div>\n",
       "<style scoped>\n",
       "    .dataframe tbody tr th:only-of-type {\n",
       "        vertical-align: middle;\n",
       "    }\n",
       "\n",
       "    .dataframe tbody tr th {\n",
       "        vertical-align: top;\n",
       "    }\n",
       "\n",
       "    .dataframe thead th {\n",
       "        text-align: right;\n",
       "    }\n",
       "</style>\n",
       "<table border=\"1\" class=\"dataframe\">\n",
       "  <thead>\n",
       "    <tr style=\"text-align: right;\">\n",
       "      <th></th>\n",
       "      <th></th>\n",
       "      <th>文章类别</th>\n",
       "    </tr>\n",
       "    <tr>\n",
       "      <th>访问日期</th>\n",
       "      <th>用户编号</th>\n",
       "      <th></th>\n",
       "    </tr>\n",
       "  </thead>\n",
       "  <tbody>\n",
       "    <tr>\n",
       "      <th rowspan=\"3\" valign=\"top\">2020/9/1</th>\n",
       "      <th>20</th>\n",
       "      <td>[数据分析]</td>\n",
       "    </tr>\n",
       "    <tr>\n",
       "      <th>44</th>\n",
       "      <td>[Python, 数据分析]</td>\n",
       "    </tr>\n",
       "    <tr>\n",
       "      <th>60</th>\n",
       "      <td>[Python, 爬虫]</td>\n",
       "    </tr>\n",
       "    <tr>\n",
       "      <th rowspan=\"2\" valign=\"top\">2020/9/10</th>\n",
       "      <th>14</th>\n",
       "      <td>[数据分析]</td>\n",
       "    </tr>\n",
       "    <tr>\n",
       "      <th>47</th>\n",
       "      <td>[爬虫, 数据分析]</td>\n",
       "    </tr>\n",
       "    <tr>\n",
       "      <th>...</th>\n",
       "      <th>...</th>\n",
       "      <td>...</td>\n",
       "    </tr>\n",
       "    <tr>\n",
       "      <th rowspan=\"3\" valign=\"top\">2020/9/8</th>\n",
       "      <th>28</th>\n",
       "      <td>[Python]</td>\n",
       "    </tr>\n",
       "    <tr>\n",
       "      <th>64</th>\n",
       "      <td>[Python, 爬虫, 数据分析]</td>\n",
       "    </tr>\n",
       "    <tr>\n",
       "      <th>79</th>\n",
       "      <td>[Python, sql]</td>\n",
       "    </tr>\n",
       "    <tr>\n",
       "      <th rowspan=\"2\" valign=\"top\">2020/9/9</th>\n",
       "      <th>46</th>\n",
       "      <td>[Python]</td>\n",
       "    </tr>\n",
       "    <tr>\n",
       "      <th>81</th>\n",
       "      <td>[Python, sql]</td>\n",
       "    </tr>\n",
       "  </tbody>\n",
       "</table>\n",
       "<p>99 rows × 1 columns</p>\n",
       "</div>"
      ],
      "text/plain": [
       "                              文章类别\n",
       "访问日期      用户编号                    \n",
       "2020/9/1  20                [数据分析]\n",
       "          44        [Python, 数据分析]\n",
       "          60          [Python, 爬虫]\n",
       "2020/9/10 14                [数据分析]\n",
       "          47            [爬虫, 数据分析]\n",
       "...                            ...\n",
       "2020/9/8  28              [Python]\n",
       "          64    [Python, 爬虫, 数据分析]\n",
       "          79         [Python, sql]\n",
       "2020/9/9  46              [Python]\n",
       "          81         [Python, sql]\n",
       "\n",
       "[99 rows x 1 columns]"
      ]
     },
     "execution_count": 15,
     "metadata": {},
     "output_type": "execute_result"
    }
   ],
   "source": [
    "# 根据'访问日期'和'用户编号'进行分组，并聚合'文章类别'列\n",
    "adjusted_data = analysis_data.groupby(['访问日期','用户编号']).sum()\n",
    "# 查看整理后的数据\n",
    "adjusted_data"
   ]
  },
  {
   "cell_type": "code",
   "execution_count": 16,
   "id": "bbb37fae",
   "metadata": {
    "scrolled": true
   },
   "outputs": [
    {
     "name": "stdout",
     "output_type": "stream",
     "text": [
      "['Python']→['sql'] 0.101 0.233 2.302\n",
      "['sql']→['Python'] 0.101 1.0 2.302\n",
      "['Python']→['数据分析'] 0.323 0.744 0.91\n",
      "['数据分析']→['Python'] 0.323 0.395 0.91\n",
      "['Python']→['爬虫'] 0.141 0.326 1.04\n",
      "['爬虫']→['Python'] 0.141 0.452 1.04\n",
      "['pandas']→['数据分析'] 0.182 1.0 1.222\n",
      "['数据分析']→['pandas'] 0.182 0.222 1.222\n",
      "['数据分析']→['爬虫'] 0.192 0.235 0.749\n",
      "['爬虫']→['数据分析'] 0.192 0.613 0.749\n"
     ]
    }
   ],
   "source": [
    "# 导入 apyori 模块下的 apriori() 函数\n",
    "from apyori import apriori\n",
    "\n",
    "# 提取'文章类别'列数据，调用 apriori() 函数，设置最小支持度为 0.1 ，使用默认最小置信度\n",
    "results = apriori(adjusted_data['文章类别'],min_support=0.1)\n",
    "\n",
    "# 遍历结果数据\n",
    "for result in results:\n",
    "    # 获取支持度,并保留 3 位小数\n",
    "    support = round(result.support, 3)\n",
    "\n",
    "    # 遍历ordered_statistics对象\n",
    "    for rule in result.ordered_statistics:\n",
    "        # 获取前件和后件并转成列表\n",
    "        head_set = list(rule.items_base)\n",
    "        tail_set = list(rule.items_add)\n",
    "\n",
    "        # 跳过前件为空的数据\n",
    "        if head_set == []:\n",
    "                continue\n",
    "\n",
    "        # 将前件、后件拼接成关联规则的形式\n",
    "        related_catogory = str(head_set) + '→' + str(tail_set)\n",
    "\n",
    "        # 提取置信度，并保留 3 位小数\n",
    "        confidence = round(rule.confidence, 3)\n",
    "        # 提取提升度，并保留 3 位小数\n",
    "        lift = round(rule.lift, 3)\n",
    "\n",
    "        # 查看强关联规则，支持度，置信度，提升度\n",
    "        print(related_catogory, support, confidence, lift)"
   ]
  },
  {
   "cell_type": "code",
   "execution_count": 17,
   "id": "cdfd0f39",
   "metadata": {},
   "outputs": [
    {
     "data": {
      "text/plain": [
       "[0.233, 1.0, 0.744, 0.395, 0.326, 0.452, 1.0, 0.222, 0.235, 0.613]"
      ]
     },
     "execution_count": 17,
     "metadata": {},
     "output_type": "execute_result"
    }
   ],
   "source": [
    "# 设置空的置信度列表\n",
    "confidences_list = []\n",
    "\n",
    "# 调用 apriori() 函数，生成关联规则\n",
    "results = apriori(adjusted_data['文章类别'], min_support=0.1)\n",
    "\n",
    "# 遍历统计列表中的关联规则，提取置信度\n",
    "for result in results:\n",
    "    for rule in result.ordered_statistics:\n",
    "\n",
    "        # 获取前件并转成列表\n",
    "        head_set = list(rule.items_base)\n",
    "\n",
    "        # 跳过前件为空的数据\n",
    "        if head_set == []:\n",
    "                continue\n",
    "\n",
    "        # 提取置信度，并保留 3 位小数\n",
    "        confidence = round(rule.confidence, 3)\n",
    "\n",
    "        # 将置信度写入置信度列表\n",
    "        confidences_list.append(confidence)\n",
    "# 查看置信度列表\n",
    "confidences_list"
   ]
  },
  {
   "cell_type": "code",
   "execution_count": 18,
   "id": "ef9116b3",
   "metadata": {},
   "outputs": [
    {
     "data": {
      "text/plain": [
       "count    10.000000\n",
       "mean      0.522000\n",
       "std       0.303657\n",
       "min       0.222000\n",
       "25%       0.257750\n",
       "50%       0.423500\n",
       "75%       0.711250\n",
       "max       1.000000\n",
       "dtype: float64"
      ]
     },
     "execution_count": 18,
     "metadata": {},
     "output_type": "execute_result"
    }
   ],
   "source": [
    "# 提取关联规则的置信度，生成 Series 数据\n",
    "s = pd.Series(confidences_list)\n",
    "# 查看置信度的描述性统计信息\n",
    "s.describe()"
   ]
  },
  {
   "cell_type": "code",
   "execution_count": 19,
   "id": "90eefc82",
   "metadata": {},
   "outputs": [
    {
     "data": {
      "text/plain": [
       "7    0.222\n",
       "0    0.233\n",
       "8    0.235\n",
       "4    0.326\n",
       "3    0.395\n",
       "5    0.452\n",
       "9    0.613\n",
       "2    0.744\n",
       "1    1.000\n",
       "6    1.000\n",
       "dtype: float64"
      ]
     },
     "execution_count": 19,
     "metadata": {},
     "output_type": "execute_result"
    }
   ],
   "source": [
    "# 对关联规则的置信度的 Series 数据进行排序\n",
    "s.sort_values()"
   ]
  },
  {
   "cell_type": "code",
   "execution_count": 22,
   "id": "bc475669",
   "metadata": {},
   "outputs": [
    {
     "data": {
      "text/html": [
       "<div>\n",
       "<style scoped>\n",
       "    .dataframe tbody tr th:only-of-type {\n",
       "        vertical-align: middle;\n",
       "    }\n",
       "\n",
       "    .dataframe tbody tr th {\n",
       "        vertical-align: top;\n",
       "    }\n",
       "\n",
       "    .dataframe thead th {\n",
       "        text-align: right;\n",
       "    }\n",
       "</style>\n",
       "<table border=\"1\" class=\"dataframe\">\n",
       "  <thead>\n",
       "    <tr style=\"text-align: right;\">\n",
       "      <th></th>\n",
       "      <th>关联规则</th>\n",
       "      <th>支持度</th>\n",
       "      <th>置信度</th>\n",
       "      <th>提升度</th>\n",
       "    </tr>\n",
       "  </thead>\n",
       "  <tbody>\n",
       "    <tr>\n",
       "      <th>0</th>\n",
       "      <td>['sql']→['Python']</td>\n",
       "      <td>0.101</td>\n",
       "      <td>1.000</td>\n",
       "      <td>2.302</td>\n",
       "    </tr>\n",
       "    <tr>\n",
       "      <th>1</th>\n",
       "      <td>['Python']→['爬虫']</td>\n",
       "      <td>0.141</td>\n",
       "      <td>0.326</td>\n",
       "      <td>1.040</td>\n",
       "    </tr>\n",
       "    <tr>\n",
       "      <th>2</th>\n",
       "      <td>['爬虫']→['Python']</td>\n",
       "      <td>0.141</td>\n",
       "      <td>0.452</td>\n",
       "      <td>1.040</td>\n",
       "    </tr>\n",
       "    <tr>\n",
       "      <th>3</th>\n",
       "      <td>['pandas']→['数据分析']</td>\n",
       "      <td>0.182</td>\n",
       "      <td>1.000</td>\n",
       "      <td>1.222</td>\n",
       "    </tr>\n",
       "    <tr>\n",
       "      <th>4</th>\n",
       "      <td>['爬虫']→['数据分析']</td>\n",
       "      <td>0.192</td>\n",
       "      <td>0.613</td>\n",
       "      <td>0.749</td>\n",
       "    </tr>\n",
       "    <tr>\n",
       "      <th>5</th>\n",
       "      <td>['Python']→['数据分析']</td>\n",
       "      <td>0.323</td>\n",
       "      <td>0.744</td>\n",
       "      <td>0.910</td>\n",
       "    </tr>\n",
       "    <tr>\n",
       "      <th>6</th>\n",
       "      <td>['数据分析']→['Python']</td>\n",
       "      <td>0.323</td>\n",
       "      <td>0.395</td>\n",
       "      <td>0.910</td>\n",
       "    </tr>\n",
       "  </tbody>\n",
       "</table>\n",
       "</div>"
      ],
      "text/plain": [
       "                  关联规则    支持度    置信度    提升度\n",
       "0   ['sql']→['Python']  0.101  1.000  2.302\n",
       "1    ['Python']→['爬虫']  0.141  0.326  1.040\n",
       "2    ['爬虫']→['Python']  0.141  0.452  1.040\n",
       "3  ['pandas']→['数据分析']  0.182  1.000  1.222\n",
       "4      ['爬虫']→['数据分析']  0.192  0.613  0.749\n",
       "5  ['Python']→['数据分析']  0.323  0.744  0.910\n",
       "6  ['数据分析']→['Python']  0.323  0.395  0.910"
      ]
     },
     "execution_count": 22,
     "metadata": {},
     "output_type": "execute_result"
    }
   ],
   "source": [
    "# 提取'文章类别'列数据，调用 apriori() 函数，设置最小支持度为 0.1 ，设置最小置信度 0.3\n",
    "results = apriori(adjusted_data['文章类别'], min_support=0.1, min_confidence = 0.3)\n",
    "\n",
    "# 创建空列表，存储关联规则列表，形成嵌套列表\n",
    "extract_result = []\n",
    "\n",
    "for result in results:\n",
    "    # 获取支持度,并保留 3 位小数\n",
    "    support = round(result.support, 3)\n",
    "\n",
    "    # 遍历ordered_statistics对象\n",
    "    for rule in result.ordered_statistics:\n",
    "        # 获取前件和后件并转成列表\n",
    "        head_set = list(rule.items_base)\n",
    "        tail_set = list(rule.items_add)\n",
    "\n",
    "        # 跳过前件为空的数据\n",
    "        if head_set == []:\n",
    "                continue\n",
    "\n",
    "        # 将前件、后件拼接成关联规则的形式\n",
    "        related_catogory = str(head_set) + '→' + str(tail_set)\n",
    "\n",
    "        # 提取置信度，并保留 3 位小数\n",
    "        confidence = round(rule.confidence, 3)\n",
    "        # 提取提升度，并保留 3 位小数\n",
    "        lift = round(rule.lift, 3)\n",
    "\n",
    "        # 将提取的数据保存到提取列表中\n",
    "        extract_result.append([related_catogory, support, confidence, lift])\n",
    "\n",
    "# 将数据转成 DataFrame 的形式\n",
    "rules_data = pd.DataFrame(extract_result, columns=['关联规则', '支持度', '置信度', '提升度'])\n",
    "\n",
    "# 将数据按照“支持度”排序\n",
    "sorted_by_support = rules_data.sort_values(by = '支持度')\n",
    "\n",
    "# 查看排序后的数据\n",
    "sorted_by_support.reset_index(drop=True)"
   ]
  },
  {
   "cell_type": "code",
   "execution_count": 23,
   "id": "dab757e1",
   "metadata": {},
   "outputs": [
    {
     "data": {
      "text/html": [
       "<div>\n",
       "<style scoped>\n",
       "    .dataframe tbody tr th:only-of-type {\n",
       "        vertical-align: middle;\n",
       "    }\n",
       "\n",
       "    .dataframe tbody tr th {\n",
       "        vertical-align: top;\n",
       "    }\n",
       "\n",
       "    .dataframe thead th {\n",
       "        text-align: right;\n",
       "    }\n",
       "</style>\n",
       "<table border=\"1\" class=\"dataframe\">\n",
       "  <thead>\n",
       "    <tr style=\"text-align: right;\">\n",
       "      <th></th>\n",
       "      <th>关联规则</th>\n",
       "      <th>支持度</th>\n",
       "      <th>置信度</th>\n",
       "      <th>提升度</th>\n",
       "    </tr>\n",
       "  </thead>\n",
       "  <tbody>\n",
       "    <tr>\n",
       "      <th>0</th>\n",
       "      <td>['sql']→['Python']</td>\n",
       "      <td>0.101</td>\n",
       "      <td>1.000</td>\n",
       "      <td>2.302</td>\n",
       "    </tr>\n",
       "    <tr>\n",
       "      <th>1</th>\n",
       "      <td>['Python']→['爬虫']</td>\n",
       "      <td>0.141</td>\n",
       "      <td>0.326</td>\n",
       "      <td>1.040</td>\n",
       "    </tr>\n",
       "    <tr>\n",
       "      <th>2</th>\n",
       "      <td>['爬虫']→['Python']</td>\n",
       "      <td>0.141</td>\n",
       "      <td>0.452</td>\n",
       "      <td>1.040</td>\n",
       "    </tr>\n",
       "    <tr>\n",
       "      <th>3</th>\n",
       "      <td>['pandas']→['数据分析']</td>\n",
       "      <td>0.182</td>\n",
       "      <td>1.000</td>\n",
       "      <td>1.222</td>\n",
       "    </tr>\n",
       "  </tbody>\n",
       "</table>\n",
       "</div>"
      ],
      "text/plain": [
       "                  关联规则    支持度    置信度    提升度\n",
       "0   ['sql']→['Python']  0.101  1.000  2.302\n",
       "1    ['Python']→['爬虫']  0.141  0.326  1.040\n",
       "2    ['爬虫']→['Python']  0.141  0.452  1.040\n",
       "3  ['pandas']→['数据分析']  0.182  1.000  1.222"
      ]
     },
     "execution_count": 23,
     "metadata": {},
     "output_type": "execute_result"
    }
   ],
   "source": [
    "# 提取出提升度大于 1 的数据，并重置数据的索引\n",
    "promoted_rules = sorted_by_support[sorted_by_support['提升度'] > 1].reset_index(drop=True)\n",
    "promoted_rules"
   ]
  },
  {
   "cell_type": "code",
   "execution_count": 24,
   "id": "4c7647c2",
   "metadata": {},
   "outputs": [
    {
     "data": {
      "text/html": [
       "<div>\n",
       "<style scoped>\n",
       "    .dataframe tbody tr th:only-of-type {\n",
       "        vertical-align: middle;\n",
       "    }\n",
       "\n",
       "    .dataframe tbody tr th {\n",
       "        vertical-align: top;\n",
       "    }\n",
       "\n",
       "    .dataframe thead th {\n",
       "        text-align: right;\n",
       "    }\n",
       "</style>\n",
       "<table border=\"1\" class=\"dataframe\">\n",
       "  <thead>\n",
       "    <tr style=\"text-align: right;\">\n",
       "      <th></th>\n",
       "      <th>关联规则</th>\n",
       "      <th>支持度</th>\n",
       "      <th>置信度</th>\n",
       "      <th>提升度</th>\n",
       "    </tr>\n",
       "  </thead>\n",
       "  <tbody>\n",
       "    <tr>\n",
       "      <th>0</th>\n",
       "      <td>['爬虫']→['数据分析']</td>\n",
       "      <td>0.192</td>\n",
       "      <td>0.613</td>\n",
       "      <td>0.749</td>\n",
       "    </tr>\n",
       "    <tr>\n",
       "      <th>1</th>\n",
       "      <td>['Python']→['数据分析']</td>\n",
       "      <td>0.323</td>\n",
       "      <td>0.744</td>\n",
       "      <td>0.910</td>\n",
       "    </tr>\n",
       "    <tr>\n",
       "      <th>2</th>\n",
       "      <td>['数据分析']→['Python']</td>\n",
       "      <td>0.323</td>\n",
       "      <td>0.395</td>\n",
       "      <td>0.910</td>\n",
       "    </tr>\n",
       "  </tbody>\n",
       "</table>\n",
       "</div>"
      ],
      "text/plain": [
       "                  关联规则    支持度    置信度    提升度\n",
       "0      ['爬虫']→['数据分析']  0.192  0.613  0.749\n",
       "1  ['Python']→['数据分析']  0.323  0.744  0.910\n",
       "2  ['数据分析']→['Python']  0.323  0.395  0.910"
      ]
     },
     "execution_count": 24,
     "metadata": {},
     "output_type": "execute_result"
    }
   ],
   "source": [
    "# 提取出提升度小于 1 的数据，并重置数据的索引\n",
    "shit = sorted_by_support[sorted_by_support['提升度'] < 1].reset_index(drop=True)\n",
    "shit"
   ]
  },
  {
   "cell_type": "code",
   "execution_count": 25,
   "id": "7ad40475",
   "metadata": {},
   "outputs": [
    {
     "data": {
      "text/plain": [
       "<BarContainer object of 3 artists>"
      ]
     },
     "execution_count": 25,
     "metadata": {},
     "output_type": "execute_result"
    },
    {
     "data": {
      "image/png": "[encoded data removed]",
      "text/plain": [
       "<Figure size 432x288 with 1 Axes>"
      ]
     },
     "metadata": {
      "needs_background": "light"
     },
     "output_type": "display_data"
    }
   ],
   "source": [
    "import matplotlib.pyplot as plt\n",
    "import warnings\n",
    "\n",
    "# 关闭警告显示\n",
    "warnings.filterwarnings('ignore')\n",
    "\n",
    "# 设置中文字体\n",
    "plt.rcParams['font.family'] = ['HeiTi TC']\n",
    "\n",
    "# 创建df数据\n",
    "hairs = pd.DataFrame([['许钢铁', 6, 5], ['王铁锤', 8, 7], ['林志龙', 9, 7]], columns=['姓名', '去年发量', '今年发量'])\n",
    "\n",
    "# 绘制基本柱状图\n",
    "plt.bar(hairs.index, height=hairs['去年发量'], width=0.4)"
   ]
  },
  {
   "cell_type": "code",
   "execution_count": 26,
   "id": "f8c0c9ae",
   "metadata": {},
   "outputs": [
    {
     "data": {
      "text/plain": [
       "<BarContainer object of 3 artists>"
      ]
     },
     "execution_count": 26,
     "metadata": {},
     "output_type": "execute_result"
    },
    {
     "data": {
      "image/png": "[encoded data removed]",
      "text/plain": [
       "<Figure size 432x288 with 1 Axes>"
      ]
     },
     "metadata": {
      "needs_background": "light"
     },
     "output_type": "display_data"
    }
   ],
   "source": [
    "plt.bar(hairs.index-0.2, height=hairs['去年发量'], width=0.4)"
   ]
  },
  {
   "cell_type": "code",
   "execution_count": 27,
   "id": "708a755e",
   "metadata": {},
   "outputs": [
    {
     "data": {
      "text/plain": [
       "([<matplotlib.axis.XTick at 0x117ecace0>,\n",
       "  <matplotlib.axis.XTick at 0x117ecacb0>,\n",
       "  <matplotlib.axis.XTick at 0x117ecabc0>],\n",
       " [Text(0, 0, '许钢铁'), Text(1, 0, '王铁锤'), Text(2, 0, '林志龙')])"
      ]
     },
     "execution_count": 27,
     "metadata": {},
     "output_type": "execute_result"
    },
    {
     "data": {
      "image/png": "[encoded data removed]",
      "text/plain": [
       "<Figure size 432x288 with 1 Axes>"
      ]
     },
     "metadata": {
      "needs_background": "light"
     },
     "output_type": "display_data"
    }
   ],
   "source": [
    "# 设置柱体宽度\n",
    "bar_width = 0.4\n",
    "\n",
    "# 使用两次 bar 函数画出两组条形图\n",
    "plt.bar(hairs.index-bar_width/2, height=hairs['去年发量'], width=bar_width)\n",
    "plt.bar(hairs.index+bar_width/2, height=hairs['今年发量'], width=bar_width)\n",
    "\n",
    "# 纵坐标和横坐标标题\n",
    "plt.ylabel('发量')\n",
    "plt.xlabel('姓名')\n",
    "# 图形标题\n",
    "plt.title('RY 工作室发量调查结果')\n",
    "# 设置x轴的刻度名称\n",
    "plt.xticks(hairs.index, hairs['姓名'])"
   ]
  },
  {
   "cell_type": "code",
   "execution_count": 28,
   "id": "2b13d7b1",
   "metadata": {},
   "outputs": [
    {
     "data": {
      "text/plain": [
       "RangeIndex(start=0, stop=3, step=1)"
      ]
     },
     "execution_count": 28,
     "metadata": {},
     "output_type": "execute_result"
    }
   ],
   "source": [
    "hairs.index\n"
   ]
  },
  {
   "cell_type": "code",
   "execution_count": 30,
   "id": "238b0901",
   "metadata": {},
   "outputs": [
    {
     "data": {
      "text/plain": [
       "<BarContainer object of 3 artists>"
      ]
     },
     "execution_count": 30,
     "metadata": {},
     "output_type": "execute_result"
    },
    {
     "data": {
      "image/png": "[encoded data removed]",
      "text/plain": [
       "<Figure size 432x288 with 1 Axes>"
      ]
     },
     "metadata": {
      "needs_background": "light"
     },
     "output_type": "display_data"
    }
   ],
   "source": [
    "plt.bar(hairs.index-bar_width/2, height=hairs['去年发量'], width=bar_width)\n",
    "plt.bar(hairs.index+bar_width/2, height=hairs['今年发量'], width=bar_width)"
   ]
  },
  {
   "cell_type": "code",
   "execution_count": 33,
   "id": "8835fc9e",
   "metadata": {},
   "outputs": [
    {
     "data": {
      "text/plain": [
       "([<matplotlib.axis.XTick at 0x134066230>,\n",
       "  <matplotlib.axis.XTick at 0x134066200>,\n",
       "  <matplotlib.axis.XTick at 0x1340660e0>],\n",
       " [Text(0, 0, '许钢铁'), Text(1, 0, '王铁锤'), Text(2, 0, '林志龙')])"
      ]
     },
     "execution_count": 33,
     "metadata": {},
     "output_type": "execute_result"
    },
    {
     "data": {
      "image/png": "[encoded data removed]",
      "text/plain": [
       "<Figure size 432x288 with 1 Axes>"
      ]
     },
     "metadata": {
      "needs_background": "light"
     },
     "output_type": "display_data"
    }
   ],
   "source": [
    "plt.bar(hairs.index-bar_width/2, height=hairs['去年发量'], width=bar_width)\n",
    "plt.bar(hairs.index+bar_width/2, height=hairs['今年发量'], width=bar_width)\n",
    "plt.xticks(hairs.index,hairs['姓名'])"
   ]
  },
  {
   "cell_type": "code",
   "execution_count": 34,
   "id": "50f94d0d",
   "metadata": {},
   "outputs": [
    {
     "data": {
      "text/plain": [
       "Text(0, 0.5, '数值')"
      ]
     },
     "execution_count": 34,
     "metadata": {},
     "output_type": "execute_result"
    },
    {
     "data": {
      "image/png": "[encoded data removed]",
      "text/plain": [
       "<Figure size 720x576 with 1 Axes>"
      ]
     },
     "metadata": {
      "needs_background": "light"
     },
     "output_type": "display_data"
    }
   ],
   "source": [
    "# 设置画布尺寸\n",
    "plt.figure(figsize=(10, 8))\n",
    "\n",
    "# 设置横纵坐标以及柱子的宽度\n",
    "width = 0.2\n",
    "\n",
    "# 画出柱状图\n",
    "plt.bar(promoted_rules.index-width/2, promoted_rules['支持度'], width=width)\n",
    "plt.bar(promoted_rules.index+width/2, promoted_rules['置信度'], width=width)\n",
    "\n",
    "# 设置图例\n",
    "plt.legend(['支持度', '置信度'], fontsize=20)\n",
    "# 设置标题\n",
    "plt.title('促进关系的关联规则的支持度、置信度', fontsize=25)\n",
    "# 设置刻度名称\n",
    "plt.xticks(promoted_rules.index, promoted_rules['关联规则'], fontsize=15)\n",
    "# 设置坐标轴标签\n",
    "plt.xlabel('关联规则', fontsize=20)\n",
    "plt.ylabel('数值', fontsize=20)"
   ]
  },
  {
   "cell_type": "code",
   "execution_count": 35,
   "id": "6ad009ce",
   "metadata": {},
   "outputs": [
    {
     "data": {
      "text/plain": [
       "<BarContainer object of 4 artists>"
      ]
     },
     "execution_count": 35,
     "metadata": {},
     "output_type": "execute_result"
    },
    {
     "data": {
      "image/png": "[encoded data removed]",
      "text/plain": [
       "<Figure size 432x288 with 1 Axes>"
      ]
     },
     "metadata": {
      "needs_background": "light"
     },
     "output_type": "display_data"
    }
   ],
   "source": [
    "# 功能：绘制提升度小于 1 的强关联规则柱状图\n",
    "plt.bar(promoted_rules.index+6,promoted_rules['提升度'], width=width)"
   ]
  },
  {
   "cell_type": "code",
   "execution_count": 37,
   "id": "53c6d3dc",
   "metadata": {},
   "outputs": [
    {
     "data": {
      "text/plain": [
       "Text(0, 0.5, '数值')"
      ]
     },
     "execution_count": 37,
     "metadata": {},
     "output_type": "execute_result"
    },
    {
     "data": {
      "image/png": "[encoded data removed]",
      "text/plain": [
       "<Figure size 720x576 with 1 Axes>"
      ]
     },
     "metadata": {
      "needs_background": "light"
     },
     "output_type": "display_data"
    }
   ],
   "source": [
    "# 提取出提升度小于1的数据，并重置数据的索引\n",
    "restricted_rules = sorted_by_support[sorted_by_support['提升度'] < 1].reset_index(drop=True)\n",
    "restricted_rules\n",
    "# 设置画布尺寸\n",
    "plt.figure(figsize=(10, 8))\n",
    "\n",
    "# 画出柱状图\n",
    "plt.bar(restricted_rules.index-width/2, restricted_rules['支持度'], width=width)\n",
    "plt.bar(restricted_rules.index+width/2, restricted_rules['置信度'], width=width)\n",
    "\n",
    "# 设置图例\n",
    "plt.legend(['支持度', '置信度'], fontsize=20)\n",
    "# 设置标题\n",
    "plt.title('抑制关系的关联规则的支持度、置信度', fontsize=25)\n",
    "# 设置刻度名称\n",
    "plt.xticks(restricted_rules.index, restricted_rules['关联规则'], fontsize=15)\n",
    "# 设置坐标轴标签\n",
    "plt.xlabel('关联规则', fontsize=20)\n",
    "plt.ylabel('数值', fontsize=20)"
   ]
  },
  {
   "cell_type": "code",
   "execution_count": 38,
   "id": "409bac82",
   "metadata": {},
   "outputs": [
    {
     "data": {
      "text/plain": [
       "Text(0, 0.5, '数值')"
      ]
     },
     "execution_count": 38,
     "metadata": {},
     "output_type": "execute_result"
    },
    {
     "data": {
      "image/png": "[encoded data removed]",
      "text/plain": [
       "<Figure size 720x576 with 1 Axes>"
      ]
     },
     "metadata": {
      "needs_background": "light"
     },
     "output_type": "display_data"
    }
   ],
   "source": [
    "# 设置画布尺寸\n",
    "plt.figure(figsize=(10, 8))\n",
    "\n",
    "# 画出柱状图\n",
    "plt.bar(restricted_rules.index-width/2, restricted_rules['支持度'], width=width)\n",
    "plt.bar(restricted_rules.index+width/2, restricted_rules['置信度'], width=width)\n",
    "\n",
    "# 设置图例\n",
    "plt.legend(['支持度', '置信度'], fontsize=20)\n",
    "# 设置标题\n",
    "plt.title('抑制关系的关联规则的支持度、置信度', fontsize=25)\n",
    "# 设置刻度名称\n",
    "plt.xticks(restricted_rules.index, restricted_rules['关联规则'], fontsize=15)\n",
    "# 设置坐标轴标签\n",
    "plt.xlabel('关联规则', fontsize=20)\n",
    "plt.ylabel('数值', fontsize=20)"
   ]
  },
  {
   "cell_type": "code",
   "execution_count": null,
   "id": "03d2c824",
   "metadata": {},
   "outputs": [],
   "source": []
  }
 ],
 "metadata": {
  "kernelspec": {
   "display_name": "Python 3 (ipykernel)",
   "language": "python",
   "name": "python3"
  },
  "language_info": {
   "codemirror_mode": {
    "name": "ipython",
    "version": 3
   },
   "file_extension": ".py",
   "mimetype": "text/x-python",
   "name": "python",
   "nbconvert_exporter": "python",
   "pygments_lexer": "ipython3",
   "version": "3.10.2"
  }
 },
 "nbformat": 4,
 "nbformat_minor": 5
}
