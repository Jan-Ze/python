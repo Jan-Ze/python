{
 "cells": [
  {
   "cell_type": "code",
   "execution_count": 46,
   "id": "5c682ac9",
   "metadata": {
    "scrolled": true
   },
   "outputs": [],
   "source": [
    "import pandas as pd\n",
    "data = pd.read_excel('202206.xlsx')\n",
    "data = data.fillna('0')\n",
    "name = []\n",
    "for i in data['姓名']:\n",
    "    i = i.split('、')\n",
    "    for n in i:\n",
    "        if n == '0':\n",
    "            continue\n",
    "        if n not in name:\n",
    "            name.append(n)\n",
    "rice = ['午餐','晚餐']\n",
    "result = {'姓名':[],\n",
    "          '午餐':[],\n",
    "          '晚餐':[]}\n",
    "for n in name:\n",
    "    wucan = 0\n",
    "    wancan = 0\n",
    "    for i in range(0,len(data)):\n",
    "        if n in data['姓名'][i]:\n",
    "            if data['午餐'][i] == '√':\n",
    "                wucan = wucan + 1\n",
    "            if data['晚餐'][i] == '√':\n",
    "                wancan = wancan + 1\n",
    "    result['姓名'].append(n)\n",
    "    result['午餐'].append(wucan)\n",
    "    result['晚餐'].append(wancan)\n",
    "result = pd.DataFrame(result)\n",
    "writer = pd.ExcelWriter('202206.xlsx',mode = 'a')\n",
    "result.to_excel(writer,sheet_name = '吃饭总次数')\n",
    "writer.save()\n"
   ]
  },
  {
   "cell_type": "code",
   "execution_count": 63,
   "id": "bd37cf45",
   "metadata": {},
   "outputs": [],
   "source": [
    "import pandas as pd\n",
    "result = {'姓名':[],\n",
    "          '午餐':[],\n",
    "          '晚餐':[]}\n",
    "for i in range(4,7):\n",
    "    path = '20220' + str(i) + '.xlsx'\n",
    "    data = pd.read_excel(path)\n",
    "    data = data.fillna('0')\n",
    "    name = []\n",
    "    for i in data['姓名']:\n",
    "        i = i.split('、')\n",
    "        for n in i:\n",
    "            if n == '0':\n",
    "                continue\n",
    "            if n not in name:\n",
    "                name.append(n)\n",
    "    for n in name:\n",
    "        wucan = 0\n",
    "        wancan = 0\n",
    "        for i in range(0,len(data)):\n",
    "            if n in data['姓名'][i]:\n",
    "                if data['午餐'][i] == '√':\n",
    "                    wucan = wucan + 1\n",
    "                if data['晚餐'][i] == '√':\n",
    "                    wancan = wancan + 1\n",
    "        if n in result['姓名']:\n",
    "            index = result['姓名'].index(n)\n",
    "            result['午餐'][index] = result['午餐'][index] + wucan\n",
    "            result['晚餐'][index] = result['晚餐'][index] + wancan\n",
    "        else:\n",
    "            result['姓名'].append(n)\n",
    "            result['午餐'].append(wucan)\n",
    "            result['晚餐'].append(wancan)\n",
    "\n",
    "result = pd.DataFrame(result)\n",
    "writer = pd.ExcelWriter('三个月汇总吃饭次数.xlsx')\n",
    "result.to_excel(writer,sheet_name = '三个月吃饭总次数')\n",
    "writer.save()"
   ]
  },
  {
   "cell_type": "code",
   "execution_count": 53,
   "id": "0f6851bc",
   "metadata": {},
   "outputs": [
    {
     "name": "stdout",
     "output_type": "stream",
     "text": [
      "4\n",
      "5\n",
      "6\n"
     ]
    }
   ],
   "source": []
  },
  {
   "cell_type": "code",
   "execution_count": null,
   "id": "71ae5acf",
   "metadata": {},
   "outputs": [],
   "source": []
  }
 ],
 "metadata": {
  "kernelspec": {
   "display_name": "Python 3 (ipykernel)",
   "language": "python",
   "name": "python3"
  },
  "language_info": {
   "codemirror_mode": {
    "name": "ipython",
    "version": 3
   },
   "file_extension": ".py",
   "mimetype": "text/x-python",
   "name": "python",
   "nbconvert_exporter": "python",
   "pygments_lexer": "ipython3",
   "version": "3.10.2"
  }
 },
 "nbformat": 4,
 "nbformat_minor": 5
}
